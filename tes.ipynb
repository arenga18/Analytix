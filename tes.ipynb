{
 "cells": [
  {
   "cell_type": "code",
   "execution_count": 3,
   "metadata": {},
   "outputs": [
    {
     "name": "stdout",
     "output_type": "stream",
     "text": [
      "[[65]\n",
      " [70]\n",
      " [72]\n",
      " [68]\n",
      " [75]\n",
      " [68]\n",
      " [75]\n",
      " [71]\n",
      " [74]\n",
      " [72]\n",
      " [69]\n",
      " [76]\n",
      " [75]\n",
      " [70]\n",
      " [73]\n",
      " [69]\n",
      " [67]\n",
      " [78]\n",
      " [66]\n",
      " [68]\n",
      " [70]\n",
      " [68]\n",
      " [71]\n",
      " [75]]\n"
     ]
    }
   ],
   "source": [
    "import pandas as pd\n",
    "from sklearn.model_selection import train_test_split\n",
    "\n",
    "df = pd.read_csv('dataset.csv')\n",
    "X = df.drop(columns=['Calories per Day'])\n",
    "Y = df['weight']\n",
    "\n",
    "        # Memisahkan dataset menjadi set pelatihan dan pengujian\n",
    "x_train, x_test, y_train, y_test = train_test_split(X, Y, train_size=0.6, test_size=0.4, random_state=42)\n",
    "\n",
    "print(X.values)"
   ]
  },
  {
   "cell_type": "code",
   "execution_count": 3,
   "metadata": {},
   "outputs": [],
   "source": [
    "import pandas as pd\n",
    "import numpy as np\n",
    "\n",
    "# Data\n",
    "data = (np.array([[ 3.76510198e-01, -2.81831482e-01],\n",
    "                  [ 8.66025404e-01,  5.00000000e-01],\n",
    "                  [ 1.00000000e+00,  0.00000000e+00],\n",
    "                  [-1.00000000e+00,  1.22464680e-16],\n",
    "                  [-8.66025404e-01,  5.00000000e-01],\n",
    "                  [ 5.00000000e-01,  8.66025404e-01],\n",
    "                  [ 0.00000000e+00,  5.00000000e-01],\n",
    "                  [-5.00000000e-01,  8.66025404e-01],\n",
    "                  [ 2.00000000e+00,  5.00000000e-01],\n",
    "                  [ 1.90096887e+00,  6.61162609e-02],\n",
    "                  [ 1.62348980e+00, -2.81831482e-01],\n",
    "                  [ 6.12323400e-17,  1.00000000e+00],\n",
    "                  [ 9.90311321e-02,  6.61162609e-02],\n",
    "                  [ 1.22252093e+00, -4.74927912e-01],\n",
    "                  [ 7.77479066e-01, -4.74927912e-01]]),\n",
    "        np.array([1, 0, 0, 0, 0, 0, 1, 0, 1, 1, 1, 0, 1, 1, 1]))\n",
    "\n",
    "# Membagi data menjadi dua variabel\n",
    "X, y = data\n",
    "\n",
    "# Membuat DataFrame\n",
    "df = pd.DataFrame(X, columns=['Feature1', 'Feature2'])\n",
    "df['Label'] = y\n",
    "\n",
    "# Menyimpan DataFrame ke dalam file CSV\n",
    "df.to_csv('data.csv', index=False)\n"
   ]
  }
 ],
 "metadata": {
  "kernelspec": {
   "display_name": "Python 3",
   "language": "python",
   "name": "python3"
  },
  "language_info": {
   "codemirror_mode": {
    "name": "ipython",
    "version": 3
   },
   "file_extension": ".py",
   "mimetype": "text/x-python",
   "name": "python",
   "nbconvert_exporter": "python",
   "pygments_lexer": "ipython3",
   "version": "3.11.7"
  }
 },
 "nbformat": 4,
 "nbformat_minor": 2
}
